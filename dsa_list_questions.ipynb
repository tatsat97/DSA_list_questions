{
 "cells": [
  {
   "cell_type": "markdown",
   "metadata": {},
   "source": [
    "####  1.Reverse the array\n"
   ]
  },
  {
   "cell_type": "code",
   "execution_count": 5,
   "metadata": {},
   "outputs": [
    {
     "name": "stdout",
     "output_type": "stream",
     "text": [
      "[4, 3, 2, 1]\n"
     ]
    }
   ],
   "source": [
    "def arr_rev(arr):\n",
    "    op = []\n",
    "    n = len(arr)\n",
    "    for i in range(n-1,-1,-1):\n",
    "        op.append(arr[i])\n",
    "    return op\n",
    "\n",
    "print(arr_rev([1,2,3,4]))\n",
    "        "
   ]
  },
  {
   "cell_type": "code",
   "execution_count": 13,
   "metadata": {},
   "outputs": [
    {
     "name": "stdout",
     "output_type": "stream",
     "text": [
      "[67, 6, 5, 4, 3, 2, 1]\n"
     ]
    }
   ],
   "source": [
    "def ite_arr_rev(arr):\n",
    "    n = len(arr)\n",
    "    start = 0\n",
    "    end = n - 1\n",
    "    while(start < end):\n",
    "        arr[start],arr[end] = arr[end], arr[start]\n",
    "        start += 1\n",
    "        end -= 1\n",
    "    return arr\n",
    "print(ite_arr_rev([1,2,3,4,5,6,67]))"
   ]
  },
  {
   "cell_type": "code",
   "execution_count": 19,
   "metadata": {},
   "outputs": [
    {
     "name": "stdout",
     "output_type": "stream",
     "text": [
      "[54, 4, 3, 2, 1]\n"
     ]
    }
   ],
   "source": [
    "def rec_arr_rev(arr, start, end):\n",
    "    if start >= end:\n",
    "        return\n",
    "    arr[start],arr[end] = arr[end], arr[start]\n",
    "    rec_arr_rev(arr, start+1, end -1)\n",
    "    return arr\n",
    "arr = [1,2,3,4,54]\n",
    "n = len(arr)\n",
    "start = 0\n",
    "end = n - 1\n",
    "print(rec_arr_rev(arr,start, end))\n",
    "        "
   ]
  },
  {
   "cell_type": "markdown",
   "metadata": {},
   "source": [
    "#### 2. Find the maximum and minimum element in an array"
   ]
  },
  {
   "cell_type": "code",
   "execution_count": 29,
   "metadata": {},
   "outputs": [
    {
     "name": "stdout",
     "output_type": "stream",
     "text": [
      "(256, 5)\n"
     ]
    }
   ],
   "source": [
    "def max_min(arr):\n",
    "    op_max = arr[0]\n",
    "    op_min = arr[0]\n",
    "    for i in range(len(arr)):\n",
    "        if arr[i]>op_max:\n",
    "            op_max = arr[i]\n",
    "        elif arr[i] < op_min:\n",
    "            op_min = arr[i]\n",
    "        \n",
    "    return op_max,op_min\n",
    "\n",
    "print(max_min([23,44,5,7,8,9,256]))"
   ]
  },
  {
   "cell_type": "code",
   "execution_count": 34,
   "metadata": {},
   "outputs": [
    {
     "name": "stdout",
     "output_type": "stream",
     "text": [
      "Minimum element is  1\n",
      "nMaximum element is  1000\n"
     ]
    }
   ],
   "source": [
    "def half_min_max(low, high, arr):\n",
    "    arr_max = arr[low]\n",
    "    arr_min = arr[low]\n",
    "     \n",
    "    # If there is only one element\n",
    "    if low == high:\n",
    "        arr_max = arr[low]\n",
    "        arr_min = arr[low]\n",
    "        return (arr_max, arr_min)\n",
    "         \n",
    "    # If there is only two element\n",
    "    elif high == low + 1:\n",
    "        if arr[low] > arr[high]:\n",
    "            arr_max = arr[low]\n",
    "            arr_min = arr[high]\n",
    "        else:\n",
    "            arr_max = arr[high]\n",
    "            arr_min = arr[low]\n",
    "        return (arr_max, arr_min)\n",
    "    else:\n",
    "         \n",
    "        # If there are more than 2 elements\n",
    "        mid = int((low + high) / 2)\n",
    "        arr_max1, arr_min1 = half_min_max(low, mid, arr)\n",
    "        arr_max2, arr_min2 = half_min_max(mid + 1, high, arr)\n",
    " \n",
    "    return (max(arr_max1, arr_max2), min(arr_min1, arr_min2))\n",
    " \n",
    "# Driver code\n",
    "arr = [1000, 11, 445, 1, 330, 3]\n",
    "high = len(arr) - 1\n",
    "low = 0\n",
    "arr_max, arr_min = half_min_max(low, high, arr)\n",
    "print('Minimum element is ', arr_min)\n",
    "print('nMaximum element is ', arr_max)"
   ]
  },
  {
   "cell_type": "markdown",
   "metadata": {},
   "source": [
    "#### 3.Find the \"Kth\" max and min element of an array "
   ]
  },
  {
   "cell_type": "code",
   "execution_count": 2,
   "metadata": {},
   "outputs": [
    {
     "name": "stdout",
     "output_type": "stream",
     "text": [
      "3\n",
      "12\n"
     ]
    }
   ],
   "source": [
    "# def find_kmax_kmin(arr,k):\n",
    "    \n",
    "# #     arr = [12,2,3,65,7], k = 2 -> [2,3,7,12,65]\n",
    "#     arr = sorted(arr)\n",
    "#     k_min = arr[k]\n",
    "#     k_max = arr[k][-1]\n",
    "#     return (k_min,k_max)\n",
    "# print(find_kmax_kmin([12,2,3,65,7],2))\n",
    "    \n",
    "arr = [12,2,3,65,7]\n",
    "k = 2 \n",
    "arr = sorted(arr)\n",
    "k_min = arr[k-1]\n",
    "rev_arr = arr[::-1]\n",
    "k_max = rev_arr[k-1]\n",
    "print(k_min)\n",
    "print(k_max)"
   ]
  },
  {
   "cell_type": "code",
   "execution_count": 4,
   "metadata": {},
   "outputs": [
    {
     "name": "stdout",
     "output_type": "stream",
     "text": [
      "Head value of heap : 10\n",
      "The heap elements : \n",
      "10 30 20 400 \n",
      "\n",
      "The heap elements : \n",
      "20 30 400 "
     ]
    }
   ],
   "source": [
    "\"\"\"Using heap\"\"\"\n",
    "# Python3 program to demonstrate working of heapq\n",
    "\n",
    "from heapq import heapify, heappush, heappop\n",
    "\n",
    "# Creating empty heap\n",
    "heap = []\n",
    "heapify(heap)\n",
    "\n",
    "# Adding items to the heap using heappush function\n",
    "heappush(heap, 10)\n",
    "heappush(heap, 30)\n",
    "heappush(heap, 20)\n",
    "heappush(heap, 400)\n",
    "\n",
    "# printing the value of minimum element\n",
    "print(\"Head value of heap : \"+str(heap[0]))\n",
    "\n",
    "# printing the elements of the heap\n",
    "print(\"The heap elements : \")\n",
    "for i in heap:\n",
    "\tprint(i, end = ' ')\n",
    "print(\"\\n\")\n",
    "\n",
    "element = heappop(heap)\n",
    "\n",
    "# printing the elements of the heap\n",
    "print(\"The heap elements : \")\n",
    "for i in heap:\n",
    "\tprint(i, end = ' ')\n",
    "\n"
   ]
  },
  {
   "cell_type": "code",
   "execution_count": 1,
   "metadata": {},
   "outputs": [
    {
     "name": "stdout",
     "output_type": "stream",
     "text": [
      "12\n"
     ]
    }
   ],
   "source": [
    "import heapq\n",
    "\n",
    "def k_largest(arr,k):\n",
    "    h = []\n",
    "    for e in arr:\n",
    "        heapq.heappush(h, (-e, e))\n",
    "    for i in range(k):\n",
    "        w, e = heapq.heappop(h)\n",
    "        if i == k-1:\n",
    "            return e\n",
    "print(k_largest([12,2,3,65,7,23],3))"
   ]
  },
  {
   "cell_type": "markdown",
   "metadata": {},
   "source": [
    "#### 4.Given an array which consists of only 0, 1 and 2. Sort the array without using any sorting algo (DUTCH NATIONAL FLAG)"
   ]
  },
  {
   "cell_type": "code",
   "execution_count": 7,
   "metadata": {},
   "outputs": [
    {
     "name": "stdout",
     "output_type": "stream",
     "text": [
      "[0, 0, 1, 1, 1, 2, 2]\n"
     ]
    }
   ],
   "source": [
    "arr = [1,1,2,0,2,0,1]\n",
    "low = 0\n",
    "mid = 0\n",
    "n = len(arr)\n",
    "high = n-1\n",
    "while mid <= high:\n",
    "    if arr[mid] == 0:\n",
    "        arr[low],arr[mid] = arr[mid], arr[low]\n",
    "        low += 1\n",
    "        mid += 1\n",
    "    elif arr[mid] == 1:\n",
    "        mid += 1\n",
    "    else:\n",
    "        arr[mid], arr[high] = arr[high],arr[mid]\n",
    "        high -= 1\n",
    "print(arr)\n",
    "        \n",
    "    "
   ]
  },
  {
   "cell_type": "markdown",
   "metadata": {},
   "source": [
    "#### 4.Move all the negative elements to one side of the array "
   ]
  },
  {
   "cell_type": "code",
   "execution_count": 14,
   "metadata": {},
   "outputs": [
    {
     "name": "stdout",
     "output_type": "stream",
     "text": [
      "[-12, -13, -5, -7, -3, -6, 11, 6, 5]\n"
     ]
    }
   ],
   "source": [
    "arr = [-12, 11, -13, -5, 6, -7, 5, -3, -6]\n",
    "left = []\n",
    "right = []\n",
    "for i in arr:\n",
    "    if i < 0:\n",
    "        left.append(i)\n",
    "    else:\n",
    "        right.append(i)\n",
    "print(left + right)\n",
    "\n"
   ]
  },
  {
   "cell_type": "code",
   "execution_count": 15,
   "metadata": {},
   "outputs": [
    {
     "name": "stdout",
     "output_type": "stream",
     "text": [
      "[-12, -13, -5, -7, -3, -6, 5, 6, 11]\n"
     ]
    }
   ],
   "source": [
    "arr = [-12, 11, -13, -5, 6, -7, 5, -3, -6]\n",
    "pivot = 0\n",
    "i = -1\n",
    "for j in range(len(arr)):\n",
    "    if arr[j] < pivot:\n",
    "        i += 1\n",
    "        arr[i],arr[j] = arr[j], arr[i]\n",
    "    else:\n",
    "        j += 1\n",
    "print(arr)"
   ]
  },
  {
   "cell_type": "markdown",
   "metadata": {},
   "source": [
    "#### 5.Find the Union and Intersection of the two sorted arrays."
   ]
  },
  {
   "cell_type": "code",
   "execution_count": 20,
   "metadata": {},
   "outputs": [
    {
     "name": "stdout",
     "output_type": "stream",
     "text": [
      "[4, 5]\n",
      "[1, 2, 3, 4, 5, 6, 7]\n"
     ]
    }
   ],
   "source": [
    "a1 = [1,2,3,4,5]\n",
    "a2 = [4,5,6,7]\n",
    "union = set(a1 + a2)\n",
    "intersection = [value for value in a1 if value in a2]\n",
    "print(intersection)\n",
    "print(list(union))"
   ]
  },
  {
   "cell_type": "markdown",
   "metadata": {},
   "source": [
    "#### 6.Write a program to cyclically rotate an array by one."
   ]
  },
  {
   "cell_type": "code",
   "execution_count": 5,
   "metadata": {},
   "outputs": [
    {
     "name": "stdout",
     "output_type": "stream",
     "text": [
      "[6, 7, 8, 1, 2, 3, 4, 5]\n"
     ]
    }
   ],
   "source": [
    "def cyclic_rotation(arr,p):\n",
    "    n = len(arr)\n",
    "    def ite_arr_rev(arr,p):\n",
    "        n = len(arr)\n",
    "        start = 0\n",
    "        end = n - 1\n",
    "        while(start < end):\n",
    "            arr[start],arr[end] = arr[end], arr[start]\n",
    "            start += 1\n",
    "            end -= 1\n",
    "        return arr\n",
    "    t = ite_arr_rev(arr[:n-p],3)\n",
    "    k = ite_arr_rev(arr[n-p:],3)\n",
    "    op = t + k\n",
    "    return op[::-1]\n",
    "print(cyclic_rotation([1,2,3,4,5,6,7,8],3))"
   ]
  },
  {
   "cell_type": "markdown",
   "metadata": {},
   "source": [
    "#### 7.find Largest sum contiguous Subarray [V. IMP]"
   ]
  },
  {
   "cell_type": "code",
   "execution_count": 2,
   "metadata": {},
   "outputs": [
    {
     "name": "stdout",
     "output_type": "stream",
     "text": [
      "7\n"
     ]
    }
   ],
   "source": [
    "def largest_sum(arr):\n",
    "    msf = 0\n",
    "    meh = float('-inf')\n",
    "    n = len(arr)\n",
    "    for i in range(n):\n",
    "        meh = meh + arr[i]\n",
    "        if meh < arr[i]:\n",
    "            meh = arr[i]\n",
    "        if msf < meh:\n",
    "            msf = meh\n",
    "    return msf\n",
    "print(largest_sum([-2,-3,4,-1,-2,1,5,-3]))\n",
    "        "
   ]
  },
  {
   "cell_type": "markdown",
   "metadata": {},
   "source": [
    "#### 8.Minimise the maximum difference between heights [V.IMP]"
   ]
  },
  {
   "cell_type": "code",
   "execution_count": 1,
   "metadata": {},
   "outputs": [
    {
     "name": "stdout",
     "output_type": "stream",
     "text": [
      "44\n"
     ]
    }
   ],
   "source": [
    "def minimize_max_diff(arr, k):\n",
    "    arr = sorted(arr)\n",
    "    smallest = arr[0] + k\n",
    "    n = len(arr)\n",
    "    largest = arr[n-1] - k\n",
    "    return largest - smallest\n",
    "\n",
    "print(minimize_max_diff([12,23,11,56,6,7],3))"
   ]
  },
  {
   "cell_type": "markdown",
   "metadata": {},
   "source": [
    "#### 9.Minimum no. of Jumps to reach end of an array"
   ]
  },
  {
   "cell_type": "code",
   "execution_count": 7,
   "metadata": {},
   "outputs": [
    {
     "name": "stdout",
     "output_type": "stream",
     "text": [
      "3\n"
     ]
    }
   ],
   "source": [
    "def jumps(arr):\n",
    "    if arr[0] == 0:\n",
    "        return float('inf')\n",
    "    n = len(arr)\n",
    "    temp = [0 for i in range(n)]\n",
    "    for i in range(1,n):\n",
    "        temp[i] = float('inf')\n",
    "        \n",
    "        for j in range(0,i):\n",
    "            if i <=  j + arr[j]:\n",
    "                temp[i] = min(temp[i],temp[j]+1)\n",
    "    return temp[-1]\n",
    "print(jumps([2,1,3,2,3,4,5,1,2,8]))\n",
    "                \n",
    "    "
   ]
  },
  {
   "cell_type": "markdown",
   "metadata": {},
   "source": [
    "#### 10.Find the Duplicate Number"
   ]
  },
  {
   "cell_type": "code",
   "execution_count": 35,
   "metadata": {},
   "outputs": [
    {
     "name": "stdout",
     "output_type": "stream",
     "text": [
      "{3: 2, 1: 1, 4: 1, 2: 1}\n",
      "1\n"
     ]
    },
    {
     "data": {
      "text/plain": [
       "'Not working for some cases'"
      ]
     },
     "execution_count": 35,
     "metadata": {},
     "output_type": "execute_result"
    }
   ],
   "source": [
    "d = {}\n",
    "nums = [3,1,3,4,2]\n",
    "for i in nums:\n",
    "    if i not in d:\n",
    "        d[i] = 1\n",
    "    else:\n",
    "        d[i] += 1\n",
    "print(d)\n",
    "print(sum(d[i] for i in d.values() if i > 1))\n",
    "\"\"\"Not working for some cases\"\"\""
   ]
  },
  {
   "cell_type": "code",
   "execution_count": 36,
   "metadata": {},
   "outputs": [
    {
     "name": "stdout",
     "output_type": "stream",
     "text": [
      "3\n"
     ]
    }
   ],
   "source": [
    "\"\"\"With the linked list solution i.e. -> Floyd's algorithm for cyclic LL\"\"\"\n",
    "def findDuplicate(nums):\n",
    "    slow,fast = 0, 0\n",
    "    while True:\n",
    "        slow = nums[slow]\n",
    "        fast = nums[nums[fast]]\n",
    "        if slow == fast:\n",
    "            break\n",
    "    slow2 = 0\n",
    "    while True:\n",
    "        slow = nums[slow]\n",
    "        slow2 = nums[slow2]\n",
    "        if slow == slow2:\n",
    "            return slow\n",
    "print(findDuplicate([3,1,3,4,2]))"
   ]
  },
  {
   "attachments": {
    "image.png": {
     "image/png": "[encoded data removed]"
    }
   },
   "cell_type": "markdown",
   "metadata": {},
   "source": [
    "![image.png](attachment:image.png)"
   ]
  },
  {
   "cell_type": "markdown",
   "metadata": {},
   "source": [
    "#### 11.Merge 2 sorted arrays without using Extra space."
   ]
  },
  {
   "cell_type": "code",
   "execution_count": 3,
   "metadata": {},
   "outputs": [
    {
     "name": "stdout",
     "output_type": "stream",
     "text": [
      "After Merging \n",
      "First Array:1  2  3  5  8  9  \n",
      "Second Array: 10  13  15  20  "
     ]
    }
   ],
   "source": [
    "# iterate through all elements of ar2[] starting from the last element\n",
    "# find the smallest element greater than ar2[i].Move all elements one position ahead till the smallest greater element is not found.....\n",
    "# ar1 = [1, 5, 9, 10, 15, 20]\n",
    "# ar2 = [2, 3, 8, 13]\n",
    "def merge(ar1, ar2, m, n):\n",
    "    for i in range(n-1,-1,-1):\n",
    "        last = ar1[m-1]\n",
    "        j = m - 2\n",
    "        while( j >= 0 and ar1[j] > ar2[i]):\n",
    "            ar1[j + 1] = ar1[j]\n",
    "            j -= 1\n",
    "        # if there was a greater element\n",
    "        if (j != m-2 or last > ar2[i]):\n",
    "            ar1[j + 1] = ar2[i]\n",
    "            ar2[i] = last\n",
    "\n",
    "ar1 = [1, 5, 9, 10, 15, 20]\n",
    "ar2 = [2, 3, 8, 13]\n",
    "m = len(ar1)\n",
    "n = len(ar2)\n",
    " \n",
    "merge(ar1, ar2, m, n)\n",
    "  \n",
    "print(\"After Merging \\nFirst Array:\", end=\"\")\n",
    "for i in range(m):\n",
    "    print(ar1[i] , \" \", end=\"\")\n",
    " \n",
    "print(\"\\nSecond Array: \", end=\"\")\n",
    "for i in range(n):\n",
    "    print(ar2[i] , \" \", end=\"\")\n",
    "    "
   ]
  },
  {
   "cell_type": "markdown",
   "metadata": {},
   "source": [
    "#### 12. Kadane's Algorithm"
   ]
  },
  {
   "cell_type": "code",
   "execution_count": 6,
   "metadata": {},
   "outputs": [
    {
     "name": "stdout",
     "output_type": "stream",
     "text": [
      "-1\n"
     ]
    }
   ],
   "source": [
    "def max_sub_array_sum(arr):\n",
    "    meh = 0\n",
    "    msf = -float('inf')\n",
    "    for i in range(len(arr)):\n",
    "        meh = meh + arr[i]\n",
    "        if meh < arr[i]:\n",
    "            meh = arr[i]\n",
    "        if msf < meh:\n",
    "            msf = meh\n",
    "    return msf\n",
    "    \n",
    "print(max_sub_array_sum([-1,-2,-3,-4]))\n"
   ]
  },
  {
   "cell_type": "markdown",
   "metadata": {},
   "source": [
    "#### 13.Merge Intervals"
   ]
  },
  {
   "cell_type": "code",
   "execution_count": 16,
   "metadata": {},
   "outputs": [
    {
     "name": "stdout",
     "output_type": "stream",
     "text": [
      "[[1, 6], [8, 10], [15, 18]]\n"
     ]
    }
   ],
   "source": [
    "def merge(intervals):\n",
    "        \"\"\"\n",
    "        :type intervals: List[List[int]]\n",
    "        :rtype: List[List[int]]\n",
    "        \"\"\"\n",
    "        intervals.sort(key = lambda i: i[0])\n",
    "        output = [intervals[0]]\n",
    "        \n",
    "        for start, end in intervals:\n",
    "            last_end = output[-1][1]\n",
    "            if start <= last_end:\n",
    "                output[-1][1] = max(last_end, end)\n",
    "            else:\n",
    "                output.append([start, end])\n",
    "        return output\n",
    "intervals = [[1,3],[2,6],[8,10],[15,18]]\n",
    "\n",
    "print(merge(intervals))"
   ]
  },
  {
   "cell_type": "markdown",
   "metadata": {},
   "source": [
    "#### 14.Next Permutation"
   ]
  },
  {
   "cell_type": "markdown",
   "metadata": {},
   "source": [
    "https://leetcode.com/problems/next-permutation/submissions/"
   ]
  },
  {
   "cell_type": "code",
   "execution_count": 1,
   "metadata": {},
   "outputs": [],
   "source": [
    "\n",
    "class Solution(object):\n",
    "    def nextPermutation(self, nums):\n",
    "        \"\"\"\n",
    "        :type nums: List[int]\n",
    "        :rtype: None Do not return anything, modify nums in-place instead.\n",
    "        \"\"\"\n",
    "        length = len(nums)\n",
    "        if length <= 2:\n",
    "            return nums.reverse()\n",
    "        else:\n",
    "            pointer = length - 2\n",
    "            while pointer >= 0 and nums[pointer] >= nums[pointer + 1]:\n",
    "                pointer -= 1\n",
    "            if pointer == -1:\n",
    "                return nums.reverse()\n",
    "            for x in range(length-1, pointer, -1):\n",
    "                if nums[x] > nums[pointer]:\n",
    "                    nums[pointer], nums[x] = nums[x], nums[pointer]\n",
    "                    break\n",
    "            nums[pointer+1:] = reversed(nums[pointer+1:])\n",
    "            "
   ]
  },
  {
   "cell_type": "markdown",
   "metadata": {},
   "source": [
    "#### 15.Count Inversion"
   ]
  },
  {
   "cell_type": "code",
   "execution_count": 9,
   "metadata": {},
   "outputs": [
    {
     "name": "stdout",
     "output_type": "stream",
     "text": [
      "0\n"
     ]
    }
   ],
   "source": [
    "nums = [2, 3, 4, 5, 6]\n",
    "n = len(nums)\n",
    "\n",
    "count = 0\n",
    "for i in range(n):\n",
    "    for j in range(n-1,0,-1):\n",
    "        if nums[i] > nums[j] and i < j:\n",
    "            count += 1\n",
    "print(count)\n",
    "        "
   ]
  },
  {
   "cell_type": "code",
   "execution_count": 11,
   "metadata": {},
   "outputs": [
    {
     "name": "stdout",
     "output_type": "stream",
     "text": [
      "Number of inversions are 3\n"
     ]
    }
   ],
   "source": [
    "# Python 3 program to count inversions in an array\n",
    "\n",
    "# Function to Use Inversion Count\n",
    "def mergeSort(arr, n):\n",
    "\t# A temp_arr is created to store\n",
    "\t# sorted array in merge function\n",
    "\ttemp_arr = [0]*n\n",
    "\treturn _mergeSort(arr, temp_arr, 0, n-1)\n",
    "\n",
    "# This Function will use MergeSort to count inversions\n",
    "\n",
    "def _mergeSort(arr, temp_arr, left, right):\n",
    "\n",
    "\t# A variable inv_count is used to store\n",
    "\t# inversion counts in each recursive call\n",
    "\n",
    "\tinv_count = 0\n",
    "\n",
    "\t# We will make a recursive call if and only if\n",
    "\t# we have more than one elements\n",
    "\n",
    "\tif left < right:\n",
    "\n",
    "\t\t# mid is calculated to divide the array into two subarrays\n",
    "\t\t# Floor division is must in case of python\n",
    "\n",
    "\t\tmid = (left + right)//2\n",
    "\n",
    "\t\t# It will calculate inversion\n",
    "\t\t# counts in the left subarray\n",
    "\n",
    "\t\tinv_count += _mergeSort(arr, temp_arr,\n",
    "\t\t\t\t\t\t\t\t\tleft, mid)\n",
    "\n",
    "\t\t# It will calculate inversion\n",
    "\t\t# counts in right subarray\n",
    "\n",
    "\t\tinv_count += _mergeSort(arr, temp_arr,\n",
    "\t\t\t\t\t\t\t\tmid + 1, right)\n",
    "\n",
    "\t\t# It will merge two subarrays in\n",
    "\t\t# a sorted subarray\n",
    "\n",
    "\t\tinv_count += merge(arr, temp_arr, left, mid, right)\n",
    "\treturn inv_count\n",
    "\n",
    "# This function will merge two subarrays\n",
    "# in a single sorted subarray\n",
    "def merge(arr, temp_arr, left, mid, right):\n",
    "\ti = left\t # Starting index of left subarray\n",
    "\tj = mid + 1 # Starting index of right subarray\n",
    "\tk = left\t # Starting index of to be sorted subarray\n",
    "\tinv_count = 0\n",
    "\n",
    "\t# Conditions are checked to make sure that\n",
    "\t# i and j don't exceed their\n",
    "\t# subarray limits.\n",
    "\n",
    "\twhile i <= mid and j <= right:\n",
    "\n",
    "\t\t# There will be no inversion if arr[i] <= arr[j]\n",
    "\n",
    "\t\tif arr[i] <= arr[j]:\n",
    "\t\t\ttemp_arr[k] = arr[i]\n",
    "\t\t\tk += 1\n",
    "\t\t\ti += 1\n",
    "\t\telse:\n",
    "\t\t\t# Inversion will occur.\n",
    "\t\t\ttemp_arr[k] = arr[j]\n",
    "\t\t\tinv_count += (mid-i + 1)\n",
    "\t\t\tk += 1\n",
    "\t\t\tj += 1\n",
    "\n",
    "\t# Copy the remaining elements of left\n",
    "\t# subarray into temporary array\n",
    "\twhile i <= mid:\n",
    "\t\ttemp_arr[k] = arr[i]\n",
    "\t\tk += 1\n",
    "\t\ti += 1\n",
    "\n",
    "\t# Copy the remaining elements of right\n",
    "\t# subarray into temporary array\n",
    "\twhile j <= right:\n",
    "\t\ttemp_arr[k] = arr[j]\n",
    "\t\tk += 1\n",
    "\t\tj += 1\n",
    "\n",
    "\t# Copy the sorted subarray into Original array\n",
    "\tfor loop_var in range(left, right + 1):\n",
    "\t\tarr[loop_var] = temp_arr[loop_var]\n",
    "\t\t\n",
    "\treturn inv_count\n",
    "\n",
    "# Driver Code\n",
    "# Given array is\n",
    "arr = [2, 4, 1, 3, 5]\n",
    "n = len(arr)\n",
    "result = mergeSort(arr, n)\n",
    "print(\"Number of inversions are\", result)\n",
    "\n",
    "\n"
   ]
  },
  {
   "cell_type": "markdown",
   "metadata": {},
   "source": [
    "#### 16.Best time to buy and Sell stock"
   ]
  },
  {
   "cell_type": "code",
   "execution_count": 3,
   "metadata": {},
   "outputs": [
    {
     "name": "stdout",
     "output_type": "stream",
     "text": [
      "5\n"
     ]
    }
   ],
   "source": [
    "def get_max_profit(prices):\n",
    "    left = 0\n",
    "    right = 1\n",
    "    max_profit = 0\n",
    "    while right < len(prices):\n",
    "        if prices[left] < prices[right]:\n",
    "            profit = prices[right] - prices[left]\n",
    "            max_profit = max(max_profit, profit)\n",
    "        else:\n",
    "            left = right\n",
    "        right += 1\n",
    "    return max_profit\n",
    "print(get_max_profit([7,1,5,3,6,4]))"
   ]
  },
  {
   "cell_type": "code",
   "execution_count": 5,
   "metadata": {},
   "outputs": [
    {
     "name": "stdout",
     "output_type": "stream",
     "text": [
      "5\n"
     ]
    }
   ],
   "source": [
    "def maxProfit(prices):\n",
    "    max_profit = 0\n",
    "    min_so_far = prices[0]\n",
    "    for i in range(len(prices)):\n",
    "        min_so_far = min(min_so_far,prices[i])\n",
    "        profit = prices[i] - min_so_far\n",
    "        max_profit = max(max_profit,profit)\n",
    "    return max_profit\n",
    "print(maxProfit([7,1,5,3,6,4]))"
   ]
  },
  {
   "cell_type": "markdown",
   "metadata": {},
   "source": [
    "#### 17.find all pairs on integer array whose sum is equal to given number"
   ]
  },
  {
   "cell_type": "code",
   "execution_count": 6,
   "metadata": {},
   "outputs": [
    {
     "name": "stdout",
     "output_type": "stream",
     "text": [
      "6\n"
     ]
    }
   ],
   "source": [
    "def getPairsCount(arr, n, k):\n",
    "        count = 0\n",
    "        for i in range(n):\n",
    "            for j in range(i+1,n):\n",
    "                if arr[i] + arr[j] == k:\n",
    "                    count += 1\n",
    "        return count\n",
    "    \n",
    "print(getPairsCount([1, 1, 1, 1], 4, 2))"
   ]
  },
  {
   "cell_type": "code",
   "execution_count": 19,
   "metadata": {},
   "outputs": [
    {
     "name": "stdout",
     "output_type": "stream",
     "text": [
      "0\n"
     ]
    }
   ],
   "source": [
    "\"\"\"Not for duplicate values\"\"\"\n",
    "def get_pair_sum(arr, n, k):\n",
    "    l,r = 0,n-1\n",
    "    temp = []\n",
    "    count = 0\n",
    "    arr = sorted(arr)\n",
    "    while l < r:\n",
    "        if arr[l] + arr[r] > k:\n",
    "            r -= 1\n",
    "        elif arr[l] + arr[r] < k:\n",
    "            l += 1\n",
    "        else:\n",
    "            count +=1 \n",
    "            l += 1\n",
    "    return count\n",
    "\n",
    "print(get_pair_sum([1,1,1,1],4,6))            \n",
    "    "
   ]
  },
  {
   "cell_type": "markdown",
   "metadata": {},
   "source": [
    "#### 18.Find Duplicate characters in a string"
   ]
  },
  {
   "cell_type": "code",
   "execution_count": 8,
   "metadata": {},
   "outputs": [
    {
     "name": "stdout",
     "output_type": "stream",
     "text": [
      "g 2\n",
      "e 4\n",
      "k 2\n",
      "s 2\n",
      "{'g': 2, 'e': 4, 'k': 2, 's': 2, 'f': 1, 'o': 1, 'r': 1}\n"
     ]
    }
   ],
   "source": [
    "# s = \"geeks for geeks\"\n",
    "def find_duplicates(s):\n",
    "    s = s.replace(\" \",\"\")\n",
    "    my_dict = {}\n",
    "    count = 0\n",
    "    for i in s:\n",
    "        if i not in my_dict:\n",
    "            my_dict[i] = 1\n",
    "        else:\n",
    "            my_dict[i] += 1\n",
    "    for i in my_dict:\n",
    "        if my_dict[i]>1:\n",
    "            print(i,my_dict[i])\n",
    "    return my_dict\n",
    "print(find_duplicates(\"geeks for geeks\"))\n",
    "\n",
    "\n",
    "    "
   ]
  },
  {
   "cell_type": "markdown",
   "metadata": {},
   "source": [
    "#### 19.Write a Code to check whether one string is a rotation of another"
   ]
  },
  {
   "cell_type": "code",
   "execution_count": 20,
   "metadata": {},
   "outputs": [
    {
     "name": "stdout",
     "output_type": "stream",
     "text": [
      "Strings are rotations of each other\n"
     ]
    }
   ],
   "source": [
    "# s1 = \"ABACD\"\n",
    "# s2 = \"CDABA\"\n",
    "def check_rotation(s1, s2):\n",
    "    if len(s1) != len(s2):\n",
    "        return 0\n",
    "    temp = s1 + s2\n",
    "    if temp.count(s2) > 0:\n",
    "        return 1\n",
    "    else:\n",
    "        return 0\n",
    "    \n",
    "    \n",
    "s1 = \"ABACD\"\n",
    "s2 = \"CDABA\"\n",
    "\n",
    "if check_rotation(s1, s2):\n",
    "    print (\"Strings are rotations of each other\")\n",
    "else:\n",
    "    print (\"Strings are not rotations of each other\")\n"
   ]
  },
  {
   "cell_type": "markdown",
   "metadata": {},
   "source": [
    "#### 20.Write a Program to check whether a string is a valid shuffle of two strings or not"
   ]
  },
  {
   "cell_type": "code",
   "execution_count": 41,
   "metadata": {},
   "outputs": [
    {
     "name": "stdout",
     "output_type": "stream",
     "text": [
      "YES\n"
     ]
    }
   ],
   "source": [
    "def is_shuffled_substr(a, b):\n",
    "    n = len(a)\n",
    "    m = len(b)\n",
    "    if n > m:\n",
    "        return False\n",
    "    else:\n",
    "        a = sorted(a)\n",
    "        \n",
    "    for i in range(m):\n",
    "        if (i + n-1) >= m:\n",
    "            return False\n",
    "        s = \"\"\n",
    "        # Copy the characters of\n",
    "        # B in str till\n",
    "        # length n\n",
    "        for j in range(n):\n",
    "            s += (b[i+j])\n",
    "        s = sorted(s)\n",
    "        if s == a:\n",
    "            return True\n",
    "        else:\n",
    "            return False\n",
    "\n",
    "Str1 = \"onetwofour\"\n",
    "Str2 = \"fourtwooneworld\"\n",
    "\n",
    "a = is_shuffled_substr(Str1, Str2)\n",
    "\n",
    "if (a):\n",
    "      print(\"YES\")\n",
    "else:\n",
    "      print(\"NO\")"
   ]
  },
  {
   "cell_type": "markdown",
   "metadata": {},
   "source": [
    "#### 21.Count and Say problem"
   ]
  },
  {
   "cell_type": "code",
   "execution_count": 42,
   "metadata": {},
   "outputs": [],
   "source": [
    "class Solution(object):\n",
    "    def countAndSay(self, n):\n",
    "        \"\"\"\n",
    "        :type n: int\n",
    "        :rtype: str\n",
    "        \"\"\"\n",
    "        #prev -> 1211\n",
    "        # res -> 111221 \n",
    "        if n==1:\n",
    "            return \"1\"\n",
    "        prev = self.countAndSay(n-1)\n",
    "        res = \"\"\n",
    "        ct = 1\n",
    "        for i in range(len(prev)):\n",
    "            if i == len(prev) -1 or prev[i] != prev[i+1]:\n",
    "                res += str(ct) + prev[i]\n",
    "                ct = 1\n",
    "            else:\n",
    "                ct += 1\n",
    "        return res\n",
    "        "
   ]
  },
  {
   "attachments": {
    "image.png": {
     "image/png": "[encoded data removed]"
    }
   },
   "cell_type": "markdown",
   "metadata": {},
   "source": [
    "![image.png](attachment:image.png)"
   ]
  },
  {
   "cell_type": "code",
   "execution_count": 43,
   "metadata": {},
   "outputs": [
    {
     "name": "stdout",
     "output_type": "stream",
     "text": [
      "3\n"
     ]
    }
   ],
   "source": [
    "print(3)"
   ]
  },
  {
   "cell_type": "markdown",
   "metadata": {},
   "source": [
    "#### 22.Longest Palindrome in a String"
   ]
  },
  {
   "cell_type": "code",
   "execution_count": 1,
   "metadata": {},
   "outputs": [
    {
     "data": {
      "text/plain": [
       "'Using DP'"
      ]
     },
     "execution_count": 1,
     "metadata": {},
     "output_type": "execute_result"
    }
   ],
   "source": [
    "\"\"\"Using DP\"\"\""
   ]
  },
  {
   "cell_type": "code",
   "execution_count": 13,
   "metadata": {},
   "outputs": [
    {
     "name": "stdout",
     "output_type": "stream",
     "text": [
      "aabbaa\n"
     ]
    }
   ],
   "source": [
    "\n",
    "def longestPalindrome(s):\n",
    "    n = len(s)\n",
    "    dp_table = [[0 for x in range(n)] for y in range(n)]\n",
    "    # all substrings of length 1 are palindrome\n",
    "\n",
    "    i = 0\n",
    "    ans = \"\"\n",
    "    for i in range(n):\n",
    "        dp_table[i][i] = True\n",
    "        ans = s[i]\n",
    "    max_length = 1\n",
    "\n",
    "    for start in range(n-1, -1, -1):\n",
    "        for end in range(start+1, n):             \n",
    "            # palindrome condition\n",
    "            if s[start] == s[end]:\n",
    "                # if it's a two char. string or if the remaining string is a palindrome too\n",
    "                if end - start == 1 or dp_table[start+1][end-1]:\n",
    "                    dp_table[start][end] = True\n",
    "                    if max_length < end - start + 1:\n",
    "                        max_length = end - start + 1\n",
    "                        ans = s[start: end+ 1]\n",
    "\n",
    "    return ans\n",
    "\n",
    "\n",
    "print(longestPalindrome('aaaabbaa'))\n",
    "\n",
    "\n"
   ]
  },
  {
   "cell_type": "code",
   "execution_count": 17,
   "metadata": {},
   "outputs": [
    {
     "name": "stdout",
     "output_type": "stream",
     "text": [
      "geeksskeegLongest palindrome substring is:  \n",
      "Length is: 10\n"
     ]
    }
   ],
   "source": [
    "# Python program\n",
    "\n",
    "import sys\n",
    "\n",
    "# A utility function to print a\n",
    "# substring str[low..high]\n",
    "def printSubStr(st, low, high) :\n",
    "\tsys.stdout.write(st[low : high + 1])\n",
    "\tsys.stdout.flush()\n",
    "\treturn ''\n",
    "\n",
    "# This function prints the longest palindrome\n",
    "# substring of st[]. It also returns the length\n",
    "# of the longest palindrome\n",
    "def longestPalSubstr(st) :\n",
    "\tn = len(st) # get length of input string\n",
    "\n",
    "\t# table[i][j] will be false if substring\n",
    "\t# str[i..j] is not palindrome. Else\n",
    "\t# table[i][j] will be true\n",
    "\ttable = [[0 for x in range(n)] for y\n",
    "\t\t\t\t\t\tin range(n)]\n",
    "\t\n",
    "\t# All substrings of length 1 are\n",
    "\t# palindromes\n",
    "\tmaxLength = 1\n",
    "\ti = 0\n",
    "\twhile (i < n) :\n",
    "\t\ttable[i][i] = True\n",
    "\t\ti = i + 1\n",
    "\t\n",
    "\t# check for sub-string of length 2.\n",
    "\tstart = 0\n",
    "\ti = 0\n",
    "\twhile i < n - 1 :\n",
    "\t\tif (st[i] == st[i + 1]) :\n",
    "\t\t\ttable[i][i + 1] = True\n",
    "\t\t\tstart = i\n",
    "\t\t\tmaxLength = 2\n",
    "\t\ti = i + 1\n",
    "\t\n",
    "\t# Check for lengths greater than 2.\n",
    "\t# k is length of substring\n",
    "\tk = 3\n",
    "\twhile k <= n :\n",
    "\t\t# Fix the starting index\n",
    "\t\ti = 0\n",
    "\t\twhile i < (n - k + 1) :\n",
    "\t\t\t\n",
    "\t\t\t# Get the ending index of\n",
    "\t\t\t# substring from starting\n",
    "\t\t\t# index i and length k\n",
    "\t\t\tj = i + k - 1\n",
    "\t\n",
    "\t\t\t# checking for sub-string from\n",
    "\t\t\t# ith index to jth index iff\n",
    "\t\t\t# st[i + 1] to st[(j-1)] is a\n",
    "\t\t\t# palindrome\n",
    "\t\t\tif (table[i + 1][j - 1] and\n",
    "\t\t\t\t\tst[i] == st[j]) :\n",
    "\t\t\t\ttable[i][j] = True\n",
    "\t\n",
    "\t\t\t\tif (k > maxLength) :\n",
    "\t\t\t\t\tstart = i\n",
    "\t\t\t\t\tmaxLength = k\n",
    "\t\t\ti = i + 1\n",
    "\t\tk = k + 1\n",
    "\tprint (\"Longest palindrome substring is: \", printSubStr(st, start,\n",
    "\t\t\t\t\t\t\t\t\t\t\tstart + maxLength - 1))\n",
    "\n",
    "\treturn maxLength # return length of LPS\n",
    "\n",
    "\n",
    "# Driver program to test above functions\n",
    "st = \"forgeeksskeegfor\"\n",
    "l = longestPalSubstr(st)\n",
    "print (\"Length is:\", l)\n",
    "\n",
    "# This code is contributed by Nikita Tiwari.\n"
   ]
  },
  {
   "cell_type": "markdown",
   "metadata": {},
   "source": [
    "##### Longest common subsequence"
   ]
  },
  {
   "cell_type": "code",
   "execution_count": 4,
   "metadata": {},
   "outputs": [
    {
     "name": "stdout",
     "output_type": "stream",
     "text": [
      "length of longest common subdequence is: 3\n"
     ]
    }
   ],
   "source": [
    "# using dp; backwords o(n*m)\n",
    "\n",
    "def longestCommonSubsequence(text1, text2):\n",
    "        \"\"\"\n",
    "        :type text1: str\n",
    "        :type text2: str\n",
    "        :rtype: int\n",
    "        \"\"\"\n",
    "        dp = [[0 for x in range(len(text2) + 1)] for y in range(len(text1) + 1)]\n",
    "        \n",
    "        for i in range(len(text1) -1, -1, -1):\n",
    "            for j in range(len(text2)-1, -1, -1):\n",
    "                \n",
    "                if text1[i] == text2[j]:\n",
    "                    dp[i][j] = 1 + dp[i+1][j+1]\n",
    "                else:\n",
    "                    dp[i][j] = max(dp[i][j+1], dp[i+1][j])\n",
    "        return dp[0][0]\n",
    "print('length of longest common subdequence is:',longestCommonSubsequence('abcde', 'ace'))"
   ]
  },
  {
   "cell_type": "markdown",
   "metadata": {},
   "source": [
    "#### 23.Find Longest Recurring Subsequence in String"
   ]
  },
  {
   "cell_type": "code",
   "execution_count": 8,
   "metadata": {},
   "outputs": [
    {
     "name": "stdout",
     "output_type": "stream",
     "text": [
      "length of Longest Recurring Subsequence is: 2\n"
     ]
    }
   ],
   "source": [
    "#any i'th character in the two subsequences shouldn't have the same index in the original string.\n",
    "def longest_rec_sub(s1):\n",
    "    dp = [[0 for x in range(len(s1) + 1)] for y in range(len(s1) + 1)]\n",
    "    for i in range(len(s1) -1, -1, -1):\n",
    "        for j in range(len(s1)-1, -1, -1):\n",
    "\n",
    "            if s1[i] == s1[j] and i != j:\n",
    "                dp[i][j] = 1+ dp[i+1][j+1]\n",
    "            else:\n",
    "                dp[i][j] = max(dp[i][j+1], dp[i+1][j])\n",
    "    return dp[0][0]\n",
    "\n",
    "print('length of Longest Recurring Subsequence is:',longest_rec_sub('axxx'))\n",
    "    "
   ]
  },
  {
   "cell_type": "markdown",
   "metadata": {},
   "source": [
    "#### 24.Print all Subsequences of a string."
   ]
  },
  {
   "cell_type": "code",
   "execution_count": 13,
   "metadata": {},
   "outputs": [
    {
     "name": "stdout",
     "output_type": "stream",
     "text": [
      "['a', 'ab', 'abc', 'b', 'bc', 'c', 'ac']\n"
     ]
    }
   ],
   "source": [
    "s1 = 'abc'\n",
    "# op = a, b, c, ab, bc, ac, abc\n",
    "op = []\n",
    "for i in range(len(s1)):\n",
    "    for j in range(i, len(s1)):\n",
    "        op.append(s1[i:j+1])\n",
    "op = op + [s1[0]+s1[len(s1)-1]]\n",
    "print(op)\n",
    "\n",
    "    \n"
   ]
  },
  {
   "cell_type": "markdown",
   "metadata": {},
   "source": [
    "#### 25.Print all the permutations of the given string"
   ]
  },
  {
   "cell_type": "code",
   "execution_count": 15,
   "metadata": {},
   "outputs": [
    {
     "name": "stdout",
     "output_type": "stream",
     "text": [
      "('A', 'B', 'C')\n",
      "('A', 'C', 'B')\n",
      "('B', 'A', 'C')\n",
      "('B', 'C', 'A')\n",
      "('C', 'A', 'B')\n",
      "('C', 'B', 'A')\n"
     ]
    }
   ],
   "source": [
    "from itertools import permutations\n",
    "s1 = 'ABC'\n",
    "perm = permutations(s1)\n",
    "for i in perm:\n",
    "    print(i)"
   ]
  },
  {
   "cell_type": "markdown",
   "metadata": {},
   "source": [
    "#### 26.Split the binary string into substrings with equal number of 0s and 1s"
   ]
  },
  {
   "cell_type": "code",
   "execution_count": 26,
   "metadata": {},
   "outputs": [
    {
     "name": "stdout",
     "output_type": "stream",
     "text": [
      "['a', 'b', 'c']\n"
     ]
    }
   ],
   "source": [
    "s1 = 'abc'\n",
    "l = [i for i in s1]\n",
    "print(l)"
   ]
  },
  {
   "cell_type": "code",
   "execution_count": 34,
   "metadata": {},
   "outputs": [
    {
     "name": "stdout",
     "output_type": "stream",
     "text": [
      "3\n"
     ]
    }
   ],
   "source": [
    "def split_binary(s1):\n",
    "    count = 0\n",
    "    zeroes = 0\n",
    "    ones = 0\n",
    "    for i in range(len(s1)):\n",
    "        if s1[i] == '0':\n",
    "            zeroes += 1\n",
    "        else:\n",
    "            ones += 1\n",
    "        if zeroes == ones:\n",
    "            count += 1\n",
    "    if count == 0:\n",
    "        return -1\n",
    "    return count\n",
    "print(split_binary('0101101'))"
   ]
  },
  {
   "cell_type": "code",
   "execution_count": 19,
   "metadata": {},
   "outputs": [
    {
     "name": "stdout",
     "output_type": "stream",
     "text": [
      "[1][1, 2][1, 2, 3][1, 2, 3, 4][2][2, 3][2, 3, 4][3][3, 4][4]5\n"
     ]
    }
   ],
   "source": [
    "num1 = 1234\n",
    "# op = a, b, c, ab, bc, ac, abc\n",
    "op = []\n",
    "s =''\n",
    "num1 = [int(i) for i in str(num1)]\n",
    "for i in range(len(num1)):\n",
    "    for j in range(i, len(num1)):\n",
    "        \n",
    "        s += (str(num1[i:j+1]))\n",
    "s = s + str(num1[0]+num1[len(num1)-1])\n",
    "print(s)\n",
    "\n",
    "# ans = []\n",
    "# s = ''\n",
    "# print(*op, sep=',')\n",
    "# for i in op:\n",
    "    \n",
    "# for row in op:\n",
    "#     print (\"\".join(map(str,row)))"
   ]
  },
  {
   "cell_type": "code",
   "execution_count": 1,
   "metadata": {},
   "outputs": [
    {
     "name": "stdout",
     "output_type": "stream",
     "text": [
      "3\n"
     ]
    }
   ],
   "source": [
    "print(3)"
   ]
  },
  {
   "cell_type": "code",
   "execution_count": 30,
   "metadata": {},
   "outputs": [
    {
     "data": {
      "text/plain": [
       "[[2],\n",
       " [2, 3, 0],\n",
       " [2, 3, 0, 1, 9, 8],\n",
       " [3, 0],\n",
       " [3, 0, 1, 9, 8],\n",
       " [0],\n",
       " [0, 1, 9, 8],\n",
       " [1, 9, 8],\n",
       " [9, 8],\n",
       " [8]]"
      ]
     },
     "execution_count": 30,
     "metadata": {},
     "output_type": "execute_result"
    }
   ],
   "source": [
    "def num_some(num):\n",
    "    # num = 3568 -> 6 8 56 68 356 568 3568\n",
    "    res = []\n",
    "    num = [int(i) for i in str(num)]\n",
    "#     print(num)\n",
    "    for i in range(len(num)):\n",
    "        for j in range(i, len(num)):\n",
    "            if num[j] % 2 == 0:\n",
    "                res.append((num[i:j+1]))\n",
    "    return(res)\n",
    "num_some(230198)"
   ]
  },
  {
   "cell_type": "code",
   "execution_count": 1,
   "metadata": {},
   "outputs": [
    {
     "name": "stdout",
     "output_type": "stream",
     "text": [
      "1234\n"
     ]
    },
    {
     "ename": "TypeError",
     "evalue": "not all arguments converted during string formatting",
     "output_type": "error",
     "traceback": [
      "\u001b[1;31m---------------------------------------------------------------------------\u001b[0m",
      "\u001b[1;31mTypeError\u001b[0m                                 Traceback (most recent call last)",
      "\u001b[1;32m<ipython-input-1-e8eba7dcac6e>\u001b[0m in \u001b[0;36m<module>\u001b[1;34m\u001b[0m\n\u001b[0;32m      3\u001b[0m \u001b[0mlist1\u001b[0m \u001b[1;33m=\u001b[0m \u001b[1;33m[\u001b[0m\u001b[1;33m]\u001b[0m\u001b[1;33m\u001b[0m\u001b[1;33m\u001b[0m\u001b[0m\n\u001b[0;32m      4\u001b[0m \u001b[1;32mfor\u001b[0m \u001b[0mi\u001b[0m \u001b[1;32min\u001b[0m \u001b[0mrange\u001b[0m\u001b[1;33m(\u001b[0m\u001b[0mlen\u001b[0m\u001b[1;33m(\u001b[0m\u001b[0mn\u001b[0m\u001b[1;33m)\u001b[0m\u001b[1;33m-\u001b[0m\u001b[1;36m1\u001b[0m\u001b[1;33m,\u001b[0m \u001b[1;33m-\u001b[0m\u001b[1;36m1\u001b[0m\u001b[1;33m,\u001b[0m \u001b[1;33m-\u001b[0m\u001b[1;36m1\u001b[0m\u001b[1;33m)\u001b[0m\u001b[1;33m:\u001b[0m\u001b[1;33m\u001b[0m\u001b[1;33m\u001b[0m\u001b[0m\n\u001b[1;32m----> 5\u001b[1;33m     \u001b[1;32mif\u001b[0m \u001b[0mint\u001b[0m\u001b[1;33m(\u001b[0m\u001b[0mn\u001b[0m\u001b[1;33m[\u001b[0m\u001b[0mi\u001b[0m\u001b[1;33m]\u001b[0m \u001b[1;33m%\u001b[0m \u001b[1;36m2\u001b[0m \u001b[1;33m==\u001b[0m \u001b[1;36m0\u001b[0m\u001b[1;33m)\u001b[0m\u001b[1;33m:\u001b[0m\u001b[1;33m\u001b[0m\u001b[1;33m\u001b[0m\u001b[0m\n\u001b[0m\u001b[0;32m      6\u001b[0m         \u001b[0mtemp\u001b[0m \u001b[1;33m=\u001b[0m \u001b[0mn\u001b[0m\u001b[1;33m\u001b[0m\u001b[1;33m\u001b[0m\u001b[0m\n\u001b[0;32m      7\u001b[0m         \u001b[0mx\u001b[0m \u001b[1;33m=\u001b[0m \u001b[1;36m0\u001b[0m\u001b[1;33m\u001b[0m\u001b[1;33m\u001b[0m\u001b[0m\n",
      "\u001b[1;31mTypeError\u001b[0m: not all arguments converted during string formatting"
     ]
    }
   ],
   "source": [
    "n = ''\n",
    "n = input()\n",
    "list1 = []\n",
    "for i in range(len(n)-1, -1, -1):\n",
    "    if int(n[i] % 2 == 0):\n",
    "        temp = n\n",
    "        x = 0\n",
    "        while x < len(temp):\n",
    "            list1.append(temp[x:])\n",
    "            x += 1\n",
    "    n = n[0:1]\n",
    "print(list1)"
   ]
  },
  {
   "cell_type": "code",
   "execution_count": 14,
   "metadata": {},
   "outputs": [
    {
     "name": "stdout",
     "output_type": "stream",
     "text": [
      "[1, 2, 3, 0, 0, 1, 4, 5, 0, 0]\n"
     ]
    }
   ],
   "source": [
    "nums = [1,2,3,0,1,4,5,0]\n",
    "i = 0\n",
    "while i < len(nums):\n",
    "    if nums[i] == 0:\n",
    "        nums.insert(i+1,0)\n",
    "        i += 2\n",
    "    else:\n",
    "        i += 1\n",
    "print(nums)\n",
    "\n"
   ]
  },
  {
   "cell_type": "code",
   "execution_count": 10,
   "metadata": {},
   "outputs": [
    {
     "name": "stdout",
     "output_type": "stream",
     "text": [
      "3\n"
     ]
    }
   ],
   "source": [
    "print(3)"
   ]
  },
  {
   "cell_type": "markdown",
   "metadata": {},
   "source": [
    "##### Remove 2 and 56 from string"
   ]
  },
  {
   "cell_type": "code",
   "execution_count": 102,
   "metadata": {},
   "outputs": [
    {
     "name": "stdout",
     "output_type": "stream",
     "text": [
      "tatsat\n"
     ]
    }
   ],
   "source": [
    "st = \"tatsat256\"\n",
    "st = st.replace('56','')\n",
    "st = st.replace('2','')\n",
    "print(st)\n",
    "# if st[-1] == '2':\n",
    "#     st = st.replace(st[-1], '')\n",
    "# for i in range(len(st)-1):\n",
    "#     if st[i] == '2':\n",
    "#         st = st.replace(st[i], '')\n",
    "# for j in range(len(st)-1):\n",
    "#     if st[j] == '5' and st[j+1] =='6':\n",
    "#         st = st.replace(st[j], '')\n",
    "#         st = st.replace(st[j], '')\n",
    "# print(st)\n"
   ]
  },
  {
   "cell_type": "markdown",
   "metadata": {},
   "source": [
    " #### 27. Perform operations on string  to convert to string2 -> EDIT DISTANCE\n",
    " find minimum Count"
   ]
  },
  {
   "cell_type": "code",
   "execution_count": 39,
   "metadata": {},
   "outputs": [
    {
     "name": "stdout",
     "output_type": "stream",
     "text": [
      "3\n"
     ]
    }
   ],
   "source": [
    "def edit_distance(s1, s2):\n",
    "    dp = [[float(\"inf\")] * (len(s2) + 1) for i in range(len(s1)+1)]\n",
    "    for j in range(len(s2)+1):\n",
    "        dp[len(s1)][j] = len(s2) - j\n",
    "    for i in range(len(s1)+1):\n",
    "        dp[i][len(s2)] = len(s1) - i\n",
    "    \n",
    "    for i in range(len(s1)-1, -1, -1):\n",
    "        for j in range(len(s2)-1, -1, -1):\n",
    "            if s1[i] == s2[j]:\n",
    "                dp[i][j] = dp[i+1][j+1]\n",
    "            else:\n",
    "                dp[i][j] = 1+ min(dp[i+1][j], dp[i][j+1], dp[i+1][j+1])\n",
    "    return dp[0][0]\n",
    "    \n",
    "print(edit_distance(\"horse\", \"ros\"))\n"
   ]
  },
  {
   "cell_type": "markdown",
   "metadata": {},
   "source": [
    "#### Merging alternatively even and odd series and finding position of a particular value"
   ]
  },
  {
   "cell_type": "code",
   "execution_count": 167,
   "metadata": {},
   "outputs": [
    {
     "name": "stdout",
     "output_type": "stream",
     "text": [
      "[0, 2, 4, 6, 8, 10, 12, 14, 16, 18, 20, 22, 24, 26, 28, 30, 32, 34, 36, 38, 40, 42, 44, 46, 48, 50]\n",
      "[0, 1, 3, 5, 7, 9, 11, 13, 15, 17, 19, 21, 23, 25, 27, 29, 31, 33, 35, 37, 39, 41, 43, 45, 47, 49]\n",
      "yo\n",
      "[0, 0, 2, 1, 4, 3, 6, 5, 8, 7, 10, 9, 12, 11, 14, 13, 16, 15, 18, 17, 20, 19, 22, 21, 24, 23, 26, 25, 28, 27, 30, 29, 32, 31, 34, 33, 36, 35, 38, 37, 40, 39, 42, 41, 44, 43, 46, 45, 48, 47, 50, 49]\n",
      "7\n"
     ]
    }
   ],
   "source": [
    "# if val == 1 or val == 2:\n",
    "#     print(0)\n",
    "n = 50\n",
    "val = 10\n",
    "odd = [num for num in range(0, n +1) if num%2 != 0]\n",
    "odd = [0] + odd\n",
    "even = [num for num in range(0, n +1) if num%2 == 0]\n",
    "combi = []\n",
    "for x,y in zip(even, odd):\n",
    "    combi += x,y\n",
    "print(even)\n",
    "print(odd)\n",
    "print('yo')\n",
    "print(combi)\n",
    "for i in combi:\n",
    "    if combi.index(i)+1 == val:\n",
    "        print(i) "
   ]
  },
  {
   "cell_type": "markdown",
   "metadata": {},
   "source": [
    "300. Longest Increasing Subsequence"
   ]
  },
  {
   "cell_type": "code",
   "execution_count": 172,
   "metadata": {},
   "outputs": [
    {
     "name": "stdout",
     "output_type": "stream",
     "text": [
      "3\n"
     ]
    }
   ],
   "source": [
    "\"\"\"USING DP\"\"\"\n",
    "\n",
    "def lengthOfLIS(nums):\n",
    "    \"\"\"\n",
    "    :type nums: List[int]\n",
    "    :rtype: int\n",
    "    \"\"\"\n",
    "    lis = [1] * len(nums)\n",
    "    for i in range(len(nums)-1, -1, -1):\n",
    "        for j in range(i+1, len(nums)):\n",
    "            if nums[i] < nums[j]:\n",
    "                lis[i] = max(lis[i], 1 +lis[j])\n",
    "    return max(lis)\n",
    "print(lengthOfLIS([1,2,4,3]))\n"
   ]
  },
  {
   "cell_type": "markdown",
   "metadata": {},
   "source": [
    "#### Maximum Sum Increasing Subsequence"
   ]
  },
  {
   "cell_type": "code",
   "execution_count": null,
   "metadata": {},
   "outputs": [],
   "source": [
    "''' l5 = 1\n",
    "nums = [1, 101, 2, 3, 100, 4, 5]\n",
    "op = 106 ie-> 1 + 2 + 3 + 100 = 106\n",
    "\n",
    "Write a program to find the sum of maximum sum \n",
    "subsequence of the given array such that the integers in the subsequence\n",
    "are sorted in increasing order.\n",
    "'''"
   ]
  },
  {
   "cell_type": "code",
   "execution_count": 1,
   "metadata": {},
   "outputs": [
    {
     "ename": "TypeError",
     "evalue": "'int' object is not iterable",
     "output_type": "error",
     "traceback": [
      "\u001b[1;31m---------------------------------------------------------------------------\u001b[0m",
      "\u001b[1;31mTypeError\u001b[0m                                 Traceback (most recent call last)",
      "\u001b[1;32m<ipython-input-1-03713ff8283c>\u001b[0m in \u001b[0;36m<module>\u001b[1;34m\u001b[0m\n\u001b[0;32m      6\u001b[0m                 \u001b[0mmsis\u001b[0m\u001b[1;33m[\u001b[0m\u001b[0mi\u001b[0m\u001b[1;33m]\u001b[0m \u001b[1;33m=\u001b[0m \u001b[0mmax\u001b[0m\u001b[1;33m(\u001b[0m\u001b[0mnums\u001b[0m\u001b[1;33m[\u001b[0m\u001b[0mi\u001b[0m\u001b[1;33m]\u001b[0m \u001b[1;33m+\u001b[0m \u001b[0mmsis\u001b[0m\u001b[1;33m[\u001b[0m\u001b[0mj\u001b[0m\u001b[1;33m]\u001b[0m\u001b[1;33m)\u001b[0m\u001b[1;33m\u001b[0m\u001b[1;33m\u001b[0m\u001b[0m\n\u001b[0;32m      7\u001b[0m     \u001b[1;32mreturn\u001b[0m \u001b[0mmax\u001b[0m\u001b[1;33m(\u001b[0m\u001b[0mlis\u001b[0m\u001b[1;33m)\u001b[0m\u001b[1;33m\u001b[0m\u001b[1;33m\u001b[0m\u001b[0m\n\u001b[1;32m----> 8\u001b[1;33m \u001b[0mprint\u001b[0m\u001b[1;33m(\u001b[0m\u001b[0mmax_sum_sub\u001b[0m\u001b[1;33m(\u001b[0m\u001b[1;33m[\u001b[0m\u001b[1;36m1\u001b[0m\u001b[1;33m,\u001b[0m \u001b[1;36m101\u001b[0m\u001b[1;33m,\u001b[0m \u001b[1;36m2\u001b[0m\u001b[1;33m,\u001b[0m \u001b[1;36m3\u001b[0m\u001b[1;33m,\u001b[0m \u001b[1;36m100\u001b[0m\u001b[1;33m,\u001b[0m \u001b[1;36m4\u001b[0m\u001b[1;33m,\u001b[0m \u001b[1;36m5\u001b[0m\u001b[1;33m]\u001b[0m\u001b[1;33m)\u001b[0m\u001b[1;33m)\u001b[0m\u001b[1;33m\u001b[0m\u001b[1;33m\u001b[0m\u001b[0m\n\u001b[0m\u001b[0;32m      9\u001b[0m \u001b[1;33m\u001b[0m\u001b[0m\n",
      "\u001b[1;32m<ipython-input-1-03713ff8283c>\u001b[0m in \u001b[0;36mmax_sum_sub\u001b[1;34m(nums)\u001b[0m\n\u001b[0;32m      4\u001b[0m         \u001b[1;32mfor\u001b[0m \u001b[0mj\u001b[0m \u001b[1;32min\u001b[0m \u001b[0mrange\u001b[0m\u001b[1;33m(\u001b[0m\u001b[0mi\u001b[0m\u001b[1;33m+\u001b[0m\u001b[1;36m1\u001b[0m\u001b[1;33m,\u001b[0m \u001b[0mlen\u001b[0m\u001b[1;33m(\u001b[0m\u001b[0mnums\u001b[0m\u001b[1;33m)\u001b[0m\u001b[1;33m)\u001b[0m\u001b[1;33m:\u001b[0m\u001b[1;33m\u001b[0m\u001b[1;33m\u001b[0m\u001b[0m\n\u001b[0;32m      5\u001b[0m             \u001b[1;32mif\u001b[0m \u001b[0mnums\u001b[0m\u001b[1;33m[\u001b[0m\u001b[0mi\u001b[0m\u001b[1;33m]\u001b[0m \u001b[1;33m<\u001b[0m \u001b[0mnums\u001b[0m\u001b[1;33m[\u001b[0m\u001b[0mj\u001b[0m\u001b[1;33m]\u001b[0m\u001b[1;33m:\u001b[0m\u001b[1;33m\u001b[0m\u001b[1;33m\u001b[0m\u001b[0m\n\u001b[1;32m----> 6\u001b[1;33m                 \u001b[0mmsis\u001b[0m\u001b[1;33m[\u001b[0m\u001b[0mi\u001b[0m\u001b[1;33m]\u001b[0m \u001b[1;33m=\u001b[0m \u001b[0mmax\u001b[0m\u001b[1;33m(\u001b[0m\u001b[0mnums\u001b[0m\u001b[1;33m[\u001b[0m\u001b[0mi\u001b[0m\u001b[1;33m]\u001b[0m \u001b[1;33m+\u001b[0m \u001b[0mmsis\u001b[0m\u001b[1;33m[\u001b[0m\u001b[0mj\u001b[0m\u001b[1;33m]\u001b[0m\u001b[1;33m)\u001b[0m\u001b[1;33m\u001b[0m\u001b[1;33m\u001b[0m\u001b[0m\n\u001b[0m\u001b[0;32m      7\u001b[0m     \u001b[1;32mreturn\u001b[0m \u001b[0mmax\u001b[0m\u001b[1;33m(\u001b[0m\u001b[0mlis\u001b[0m\u001b[1;33m)\u001b[0m\u001b[1;33m\u001b[0m\u001b[1;33m\u001b[0m\u001b[0m\n\u001b[0;32m      8\u001b[0m \u001b[0mprint\u001b[0m\u001b[1;33m(\u001b[0m\u001b[0mmax_sum_sub\u001b[0m\u001b[1;33m(\u001b[0m\u001b[1;33m[\u001b[0m\u001b[1;36m1\u001b[0m\u001b[1;33m,\u001b[0m \u001b[1;36m101\u001b[0m\u001b[1;33m,\u001b[0m \u001b[1;36m2\u001b[0m\u001b[1;33m,\u001b[0m \u001b[1;36m3\u001b[0m\u001b[1;33m,\u001b[0m \u001b[1;36m100\u001b[0m\u001b[1;33m,\u001b[0m \u001b[1;36m4\u001b[0m\u001b[1;33m,\u001b[0m \u001b[1;36m5\u001b[0m\u001b[1;33m]\u001b[0m\u001b[1;33m)\u001b[0m\u001b[1;33m)\u001b[0m\u001b[1;33m\u001b[0m\u001b[1;33m\u001b[0m\u001b[0m\n",
      "\u001b[1;31mTypeError\u001b[0m: 'int' object is not iterable"
     ]
    }
   ],
   "source": [
    "def max_sum_sub(nums):\n",
    "    msis = [1] * len(nums)\n",
    "    for i in range(len(nums)-1, -1, -1):\n",
    "        for j in range(i+1, len(nums)):\n",
    "            if nums[i] < nums[j]:\n",
    "                msis[i] = max(nums[i] + msis[j])\n",
    "    return max(lis)\n",
    "print(max_sum_sub([1, 101, 2, 3, 100, 4, 5]))\n",
    "                "
   ]
  },
  {
   "cell_type": "markdown",
   "metadata": {},
   "source": [
    "#### Longest increasing subsequence"
   ]
  },
  {
   "cell_type": "code",
   "execution_count": 21,
   "metadata": {},
   "outputs": [
    {
     "name": "stdout",
     "output_type": "stream",
     "text": [
      "3\n"
     ]
    }
   ],
   "source": [
    "def longest_inc_sub(arr):\n",
    "    LIS = [1] * len(arr)\n",
    "    for i in range(len(arr)):\n",
    "        for j in range(0, i):\n",
    "            if arr[i] > arr[j] and LIS[i] <= LIS[j]:\n",
    "                LIS[i] = 1 + LIS[j]\n",
    "    return max(LIS)\n",
    "print(longest_inc_sub([5,8,7,1,9]))"
   ]
  },
  {
   "cell_type": "markdown",
   "metadata": {},
   "source": [
    "#### Maximum Sum Increasing Subsequence "
   ]
  },
  {
   "cell_type": "code",
   "execution_count": 22,
   "metadata": {},
   "outputs": [
    {
     "name": "stdout",
     "output_type": "stream",
     "text": [
      "22\n"
     ]
    }
   ],
   "source": [
    "def max_sum_subsequence(arr):\n",
    "    MSIS = [x for x in arr]\n",
    "    for i in range(1, len(arr)):\n",
    "        for j in range(0, i):\n",
    "            if arr[i] > arr[j] and MSIS[i] <= arr[i] + MSIS[j]:\n",
    "                MSIS[i] = arr[i] + MSIS[j]\n",
    "    return max(MSIS)\n",
    "print(max_sum_subsequence([5,8,7,1,9]))"
   ]
  },
  {
   "cell_type": "markdown",
   "metadata": {},
   "source": [
    "#### Russian doll Envelope"
   ]
  },
  {
   "cell_type": "code",
   "execution_count": null,
   "metadata": {},
   "outputs": [],
   "source": [
    "def envelope_lis()"
   ]
  },
  {
   "cell_type": "code",
   "execution_count": 1,
   "metadata": {},
   "outputs": [
    {
     "name": "stdout",
     "output_type": "stream",
     "text": [
      "[[1, 2], [2, 5], [2, 9]]\n"
     ]
    },
    {
     "data": {
      "text/plain": [
       "'TO DO'"
      ]
     },
     "execution_count": 1,
     "metadata": {},
     "output_type": "execute_result"
    }
   ],
   "source": [
    "nums = [[1,2], [2,9], [2,5]]\n",
    "nums = sorted(nums,key=lambda x:(x[0],x[1]))\n",
    "print(nums)\n",
    "\"\"\"TO DO\"\"\""
   ]
  },
  {
   "cell_type": "markdown",
   "metadata": {},
   "source": [
    "#### 28.Split the binary string into substrings with equal number of 0s and 1s"
   ]
  },
  {
   "cell_type": "code",
   "execution_count": 4,
   "metadata": {},
   "outputs": [
    {
     "name": "stdout",
     "output_type": "stream",
     "text": [
      "4\n"
     ]
    }
   ],
   "source": [
    "# str = “0100110101” \n",
    "# required substring can be -> 01 0011 01 01\n",
    "# “0111100010” \n",
    "# 01 111000 10\n",
    "\n",
    "def split_sub(st):\n",
    "    if len(st) % 2 != 0 and st.count('0') != st.count('1'):\n",
    "        return -1\n",
    "    else:\n",
    "        c = 0\n",
    "        z = 0\n",
    "        o = 0\n",
    "        for i in range(len(st)):\n",
    "            if st[i] == '0':\n",
    "                z += 1\n",
    "            elif st[i] == '1':\n",
    "                o += 1\n",
    "            if z == o:\n",
    "                c += 1\n",
    "        return c\n",
    "    \n",
    "print(split_sub('0100110101'))"
   ]
  },
  {
   "cell_type": "code",
   "execution_count": 8,
   "metadata": {},
   "outputs": [
    {
     "data": {
      "text/plain": [
       "[1, 4, 3, 2]"
      ]
     },
     "execution_count": 8,
     "metadata": {},
     "output_type": "execute_result"
    }
   ],
   "source": [
    "nums = [1,2,3,4]\n",
    "i = 1\n",
    "nums[i:] = nums[i:][::-1]\n",
    "nums"
   ]
  },
  {
   "cell_type": "code",
   "execution_count": 10,
   "metadata": {},
   "outputs": [
    {
     "data": {
      "text/plain": [
       "4"
      ]
     },
     "execution_count": 10,
     "metadata": {},
     "output_type": "execute_result"
    }
   ],
   "source": [
    "nums[i]"
   ]
  },
  {
   "cell_type": "markdown",
   "metadata": {},
   "source": [
    "#### 28.31. Next Permutation"
   ]
  },
  {
   "cell_type": "code",
   "execution_count": null,
   "metadata": {},
   "outputs": [],
   "source": [
    "class Solution:\n",
    "    def nextPermutation(self, nums: List[int]) -> None:\n",
    "        \"\"\"\n",
    "        Do not return anything, modify nums in-place instead.\n",
    "        \"\"\"\n",
    "        length = len(nums)\n",
    "        if length <= 2:\n",
    "            return nums.reverse()\n",
    "        pointer = length - 2\n",
    "        \n",
    "        while pointer >= 0 and nums[pointer] >= nums[pointer + 1]:\n",
    "            pointer -= 1\n",
    "        if pointer == - 1:\n",
    "            return nums.reverse()\n",
    "        \n",
    "        for x in range(length - 1, pointer, -1):\n",
    "            if nums[x] > nums[pointer]:\n",
    "                nums[x], nums[pointer] = nums[pointer], nums[x]\n",
    "                break\n",
    "        nums[pointer + 1:] = nums[pointer + 1:][::-1]\n",
    "                \n",
    "            \n"
   ]
  },
  {
   "cell_type": "markdown",
   "metadata": {},
   "source": [
    "#### 29 balanced paranthesis"
   ]
  },
  {
   "cell_type": "code",
   "execution_count": 11,
   "metadata": {},
   "outputs": [],
   "source": [
    "class Solution:\n",
    "    def isValid(self, s: str) -> bool:\n",
    "        stack = []\n",
    "        closeToOpen = {\")\" : \"(\", \"]\" : \"[\", \"}\" : \"{\"}\n",
    "        for ch in s:\n",
    "            if ch in closeToOpen:\n",
    "                if stack and stack[-1] == closeToOpen[ch]:\n",
    "                    stack.pop()\n",
    "                else:\n",
    "                    return False\n",
    "            else:\n",
    "                stack.append(ch)\n",
    "        return True if not stack else False"
   ]
  },
  {
   "cell_type": "markdown",
   "metadata": {},
   "source": [
    "#### Longest Substring Without Repeating Characters"
   ]
  },
  {
   "cell_type": "code",
   "execution_count": 1,
   "metadata": {},
   "outputs": [],
   "source": [
    "# get a set for substr and use sliding window technique"
   ]
  },
  {
   "cell_type": "code",
   "execution_count": 5,
   "metadata": {},
   "outputs": [
    {
     "name": "stdout",
     "output_type": "stream",
     "text": [
      "3\n"
     ]
    }
   ],
   "source": [
    "# \"abcabcbba\"\n",
    "def len_longest_sub(s):\n",
    "    charSet = set()\n",
    "    l = 0\n",
    "    res = 0\n",
    "    for r in range(len(s)):\n",
    "        while s[r] in charSet:\n",
    "            charSet.remove(s[l])\n",
    "            l += 1\n",
    "        charSet.add(s[r])\n",
    "        res = max(res, r-l+1)\n",
    "    return res\n",
    "print(len_longest_sub(\"abbcabcbba\"))\n",
    "            \n",
    "    "
   ]
  },
  {
   "cell_type": "code",
   "execution_count": 6,
   "metadata": {},
   "outputs": [],
   "source": [
    "p = \"abcdd\"\n",
    "p = set(p)"
   ]
  },
  {
   "cell_type": "code",
   "execution_count": 7,
   "metadata": {},
   "outputs": [
    {
     "data": {
      "text/plain": [
       "{'a', 'b', 'c', 'd'}"
      ]
     },
     "execution_count": 7,
     "metadata": {},
     "output_type": "execute_result"
    }
   ],
   "source": [
    "p"
   ]
  },
  {
   "cell_type": "code",
   "execution_count": 17,
   "metadata": {},
   "outputs": [
    {
     "name": "stdout",
     "output_type": "stream",
     "text": [
      "['a', 'b', 'c', 'd']\n"
     ]
    }
   ],
   "source": [
    "q = 'abcd'\n",
    "print(sorted(q))"
   ]
  },
  {
   "cell_type": "code",
   "execution_count": 18,
   "metadata": {},
   "outputs": [
    {
     "name": "stdout",
     "output_type": "stream",
     "text": [
      "<class 'str'>\n"
     ]
    }
   ],
   "source": [
    "print(type(''.join(sorted(q))))"
   ]
  },
  {
   "cell_type": "code",
   "execution_count": 21,
   "metadata": {},
   "outputs": [
    {
     "name": "stdout",
     "output_type": "stream",
     "text": [
      "[0, 0, 0, 0]\n"
     ]
    }
   ],
   "source": [
    "counter_p = [0]*4\n",
    "print(counter_p)"
   ]
  },
  {
   "cell_type": "code",
   "execution_count": 22,
   "metadata": {},
   "outputs": [
    {
     "name": "stdout",
     "output_type": "stream",
     "text": [
      "[1, 1, 1, 1]\n"
     ]
    }
   ],
   "source": [
    "for c in q:\n",
    "    counter_p[ord(c)-97] +=1\n",
    "print(counter_p)"
   ]
  },
  {
   "cell_type": "code",
   "execution_count": 29,
   "metadata": {},
   "outputs": [
    {
     "name": "stdout",
     "output_type": "stream",
     "text": [
      "[2, 1, 1, 2]\n"
     ]
    }
   ],
   "source": [
    "s = 'abcdda'\n",
    "counter_s = [0] * 4\n",
    "for c in s:\n",
    "    counter_s[ ord(c) - 97] += 1\n",
    "print(counter_s)"
   ]
  },
  {
   "cell_type": "code",
   "execution_count": 4,
   "metadata": {},
   "outputs": [
    {
     "name": "stdout",
     "output_type": "stream",
     "text": [
      "d\n"
     ]
    }
   ],
   "source": [
    "st = 'abcd'\n",
    "print(chr(ord('c') + 1))"
   ]
  },
  {
   "cell_type": "code",
   "execution_count": 33,
   "metadata": {},
   "outputs": [
    {
     "name": "stdout",
     "output_type": "stream",
     "text": [
      "['This1', 'is2', 'a3', 'sentence4']\n",
      "This is a sentence\n"
     ]
    }
   ],
   "source": [
    "s = \"is2 sentence4 This1 a3\"\n",
    "s = [x for x in s.split(\" \")]\n",
    "s = sorted(s, key=lambda x: int(x[-1]))\n",
    "print(s)\n",
    "\n",
    "res = [sub[ : -1] for sub in s]\n",
    "print(' '.join(res))\n",
    "        \n",
    "        "
   ]
  },
  {
   "cell_type": "code",
   "execution_count": 43,
   "metadata": {},
   "outputs": [
    {
     "name": "stdout",
     "output_type": "stream",
     "text": [
      "0\n",
      "1\n",
      "2\n",
      "12\n",
      "25\n"
     ]
    }
   ],
   "source": [
    "word = 'abcmz'\n",
    "prev = 'a'\n",
    "for ch in word: \n",
    "    val = (ord(ch) - ord(prev)) % 26\n",
    "    print(val)"
   ]
  },
  {
   "cell_type": "code",
   "execution_count": 48,
   "metadata": {},
   "outputs": [
    {
     "name": "stdout",
     "output_type": "stream",
     "text": [
      "['sweet', 'sour']\n"
     ]
    }
   ],
   "source": [
    "\n",
    "from collections import Counter\n",
    "def uncommonFromSentences(s1, s2):\n",
    "    hash = {}\n",
    "    for i in s1.split(\" \"):\n",
    "        if i not in hash:\n",
    "            hash[i] = 1\n",
    "        else:\n",
    "            hash[i] += 1\n",
    "\n",
    "    for i in s2.split(\" \"):\n",
    "        if i not in hash:\n",
    "            hash[i] = 1\n",
    "        else:\n",
    "            hash[i] += 1\n",
    "    keys = []\n",
    "    for key in hash:\n",
    "        if hash[key] == 1:\n",
    "            keys.append(key)\n",
    "    return keys\n",
    "\n",
    "\n",
    "\n",
    "\n",
    "print(uncommonFromSentences(\"this apple is sweet\", \"this apple is sour\"))\n"
   ]
  },
  {
   "cell_type": "code",
   "execution_count": 1,
   "metadata": {},
   "outputs": [],
   "source": [
    "# find no. of ways to insert coin\n",
    "\n",
    "\n",
    "# only one and two rupees coin can be inserted \n",
    "# no two 2 rupees coin can be inserted\n",
    "\n",
    "# 3rs\n",
    "# -ans-> [1,1,1] [2,1] [3,1]"
   ]
  },
  {
   "cell_type": "code",
   "execution_count": 10,
   "metadata": {},
   "outputs": [
    {
     "name": "stdout",
     "output_type": "stream",
     "text": [
      "Not UNO\n"
     ]
    }
   ],
   "source": [
    "def checking_uno(n):\n",
    "    # n = 5 1 1 1 2\n",
    "    res = [int(i) for i in str(n)]\n",
    "    s = sum(res)\n",
    "    if s > 9:\n",
    "        r = [int(i) for i in str(s)]\n",
    "        s = sum(r)\n",
    "    return \"UNO\" if s == 1 else \"Not UNO\"\n",
    "print(checking_uno(1098765))\n",
    "    "
   ]
  },
  {
   "cell_type": "code",
   "execution_count": 11,
   "metadata": {},
   "outputs": [
    {
     "name": "stdout",
     "output_type": "stream",
     "text": [
      "3\n",
      "2 3 4 5 6\n",
      "2\n"
     ]
    }
   ],
   "source": [
    "a = int(input())\n",
    "c = 0\n",
    "b = list(input().split(\" \"))\n",
    "for i in range(a - 1):\n",
    "    if b[i] < b[i + 1]:\n",
    "        c += 1\n",
    "print(c)"
   ]
  },
  {
   "cell_type": "code",
   "execution_count": 1,
   "metadata": {},
   "outputs": [
    {
     "name": "stdout",
     "output_type": "stream",
     "text": [
      "3\n"
     ]
    }
   ],
   "source": [
    "print(3)"
   ]
  },
  {
   "cell_type": "markdown",
   "metadata": {},
   "source": [
    "Isomorphic strings"
   ]
  },
  {
   "cell_type": "code",
   "execution_count": 17,
   "metadata": {},
   "outputs": [
    {
     "name": "stdout",
     "output_type": "stream",
     "text": [
      "{'p': 2, 'a': 1, 'e': 1, 'r': 1}\n",
      "dict_values([2, 1, 1, 1])\n",
      "False\n"
     ]
    }
   ],
   "source": [
    "# s = \"paper\"\n",
    "# t = \"title\"\n",
    "# d_s = dict()\n",
    "# d_t = dict()\n",
    "# for i in s:\n",
    "#     if i not in d_s:\n",
    "#         d_s[i] = 1\n",
    "#     else:\n",
    "#         d_s[i] += 1\n",
    "# print(d_s)\n",
    "\n",
    "# for i in t:\n",
    "#     if i not in d_t:\n",
    "#         d_t[i] = 1\n",
    "#     else:\n",
    "#         d_t[i] += 1\n",
    "# print(d_t.values())\n",
    "# print(d_s.values() == d_t.values())\n",
    "# set1 = set()\n",
    "\n"
   ]
  },
  {
   "cell_type": "code",
   "execution_count": 20,
   "metadata": {},
   "outputs": [
    {
     "name": "stdout",
     "output_type": "stream",
     "text": [
      "False\n"
     ]
    }
   ],
   "source": [
    "s = \"paper\"\n",
    "t = \"tirle\"\n",
    "\n",
    "def isomorphic(s, t):\n",
    "    mapst, mapts = {}, {}\n",
    "    for i in range(len(s)):\n",
    "        c1, c2 = s[i], t[i]\n",
    "        if ((c1 in mapst and mapst[c1] != c2) or\n",
    "         ( c2 in mapts and mapts[c2] != c1)):\n",
    "            return False\n",
    "        mapst[c1] = c2\n",
    "        mapts[c2] = c1\n",
    "    return True\n",
    "print(isomorphic(s,t))"
   ]
  },
  {
   "cell_type": "code",
   "execution_count": null,
   "metadata": {},
   "outputs": [],
   "source": []
  }
 ],
 "metadata": {
  "kernelspec": {
   "display_name": "Python 3",
   "language": "python",
   "name": "python3"
  },
  "language_info": {
   "codemirror_mode": {
    "name": "ipython",
    "version": 3
   },
   "file_extension": ".py",
   "mimetype": "text/x-python",
   "name": "python",
   "nbconvert_exporter": "python",
   "pygments_lexer": "ipython3",
   "version": "3.10.2"
  }
 },
 "nbformat": 4,
 "nbformat_minor": 4
}
